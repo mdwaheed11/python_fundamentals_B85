{
 "cells": [
  {
   "cell_type": "code",
   "execution_count": 1,
   "id": "1ff97be9",
   "metadata": {},
   "outputs": [
    {
     "name": "stdout",
     "output_type": "stream",
     "text": [
      "Hello All Welcome to the python programmig world!\n"
     ]
    }
   ],
   "source": [
    "print(\"Hello All Welcome to the python programmig world!\")"
   ]
  },
  {
   "cell_type": "code",
   "execution_count": null,
   "id": "f64bab39",
   "metadata": {},
   "outputs": [],
   "source": [
    "Shift + Enter button together for executing the program."
   ]
  }
 ],
 "metadata": {
  "kernelspec": {
   "display_name": "Python 3 (ipykernel)",
   "language": "python",
   "name": "python3"
  },
  "language_info": {
   "codemirror_mode": {
    "name": "ipython",
    "version": 3
   },
   "file_extension": ".py",
   "mimetype": "text/x-python",
   "name": "python",
   "nbconvert_exporter": "python",
   "pygments_lexer": "ipython3",
   "version": "3.11.5"
  }
 },
 "nbformat": 4,
 "nbformat_minor": 5
}
